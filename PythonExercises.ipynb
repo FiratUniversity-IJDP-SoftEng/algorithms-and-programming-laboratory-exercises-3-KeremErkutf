{
 "cells": [
  {
   "cell_type": "markdown",
   "metadata": {},
   "source": [
    "# Algorithms and Programming\n",
    "# Exercise Notebook (Intermediate Level)\n",
    "\n",
    "### Name:  Ciftlikci Kerem Erkut\n",
    "### Student ID: 240543013\n",
    "### Date: Apr 4 2025\n",
    "\n"
   ]
  },
  {
   "cell_type": "markdown",
   "metadata": {},
   "source": [
    "\n",
    "# Question 1\n",
    "### Write a Python function `is_prime` that determines if the given integer is a prime number.\n",
    "\n",
    "### Test your function\n",
    "```python\n",
    "print(is_prime(11))  # Expected output: True\n",
    "print(is_prime(15))  # Expected output: False\n",
    "```\n",
    "\n"
   ]
  },
  {
   "cell_type": "code",
   "execution_count": null,
   "metadata": {},
   "outputs": [
    {
     "name": "stdout",
     "output_type": "stream",
     "text": [
      "Prime\n",
      "None\n"
     ]
    }
   ],
   "source": [
    "number = int(input(\"Please enter number to understand prime or not\"))\n",
    "\n",
    "def is_prime(number):\n",
    "    if number <= 3:    \n",
    "        if number == 0 or number == 1:\n",
    "            print(\"Not Prime\")\n",
    "        elif number == 2 or number == 3:\n",
    "            print(\"Prime\")\n",
    "    else :\n",
    "        if (number % 6 == 1):\n",
    "            print(\"Prime\")\n",
    "        else :\n",
    "            print(\"Not Prime\")\n",
    "\n",
    "print(is_prime(number))"
   ]
  },
  {
   "cell_type": "markdown",
   "metadata": {},
   "source": [
    "# Question 2\n",
    "### Write a Python function `gcd` that calculates the greatest common divisor of two integers using the Euclidean algorithm.\n",
    "\n",
    "### Test your function\n",
    "```python\n",
    "print(gcd(48, 18))  # Expected output: 6\n",
    "print(gcd(100, 25))  # Expected output: 25\n",
    "```"
   ]
  },
  {
   "cell_type": "code",
   "execution_count": null,
   "metadata": {},
   "outputs": [
    {
     "name": "stdout",
     "output_type": "stream",
     "text": [
      "12\n"
     ]
    }
   ],
   "source": [
    "biggerNumber = int(input(\"Enter bigger number.\"))\n",
    "smallerNumber = int(input(\"Enter smaller number.\"))\n",
    "\n",
    "def gcd(biggerNumber, smallerNumber):\n",
    "    \n",
    "    while smallerNumber > 0: \n",
    "        r = biggerNumber % smallerNumber\n",
    "        biggerNumber , smallerNumber = smallerNumber , r\n",
    "    \n",
    "    return biggerNumber\n",
    "\n",
    "print(gcd(biggerNumber, smallerNumber))"
   ]
  },
  {
   "cell_type": "markdown",
   "metadata": {},
   "source": [
    "# Question 3\n",
    "### Write a Python function `count_vowels` that takes a string as input and returns the count of vowels (a, e, i, o, u) in the string.\n",
    "\n",
    "### Test your function\n",
    "```python\n",
    "print(count_vowels(\"intermediate\"))  # Expected output: 5\n",
    "print(count_vowels(\"algorithm\"))  # Expected output: 3\n",
    "```"
   ]
  },
  {
   "cell_type": "code",
   "execution_count": 17,
   "metadata": {},
   "outputs": [
    {
     "name": "stdout",
     "output_type": "stream",
     "text": [
      "3\n"
     ]
    }
   ],
   "source": [
    "inputString = input(\"Enter the string to count vowels.\")\n",
    "\n",
    "def count_vowels(inputString):\n",
    "    counter = 0\n",
    "    for k in range(len(inputString)):\n",
    "        letter = inputString[k]\n",
    "        if letter == \"a\" or letter == \"e\" or letter == \"i\" or letter == \"o\" or letter == \"u\" :\n",
    "            counter += 1\n",
    "    \n",
    "    print(counter)\n",
    "\n",
    "count_vowels(inputString)\n",
    "            \n",
    "\n"
   ]
  },
  {
   "cell_type": "markdown",
   "metadata": {},
   "source": [
    "# Question 4\n",
    "### Write a Python function `merge_sorted_lists` that merges two sorted lists into a single sorted list without using built-in sort functions.\n",
    "\n",
    "### Test your function\n",
    "```python\n",
    "print(merge_sorted_lists([1, 3, 5], [2, 4, 6]))  # Expected output: [1, 2, 3, 4, 5, 6]\n",
    "print(merge_sorted_lists([-3, 0, 7], [-1, 4, 10]))  # Expected output: [-3, -1, 0, 4, 7, 10]\n",
    "```\n"
   ]
  },
  {
   "cell_type": "code",
   "execution_count": 20,
   "metadata": {},
   "outputs": [
    {
     "name": "stdout",
     "output_type": "stream",
     "text": [
      "[1, 2, 3, 4, 5, 6]\n",
      "None\n",
      "[-3, -1, 0, 4, 7, 10]\n",
      "None\n"
     ]
    }
   ],
   "source": [
    "def merge_sorted_list(list1, list2):\n",
    "    \n",
    "    sumList = list1 + list2\n",
    "    \n",
    "    sort_the_list(sumList)\n",
    "    \n",
    "    print(sumList)\n",
    "\n",
    "\n",
    "def sort_the_list(list):\n",
    "    \n",
    "    n = len(list)\n",
    "\n",
    "    for i in range(n):\n",
    "    \n",
    "        swapped = False\n",
    "\n",
    "        for j in range(0, n - i - 1):\n",
    "\n",
    "            if list[j] > list[j + 1]:\n",
    "                \n",
    "                list[j], list[j + 1] = list[j + 1], list[j]\n",
    "    \n",
    "                swapped = True\n",
    "\n",
    "        if not swapped:\n",
    "            break\n",
    "    \n",
    "    return list\n",
    "\n",
    "\n",
    "print(merge_sorted_list([1, 3, 5], [2, 4, 6]))\n",
    "print(merge_sorted_list([-3, 0, 7], [-1, 4, 10]))"
   ]
  },
  {
   "cell_type": "markdown",
   "metadata": {},
   "source": [
    "# Question 5\n",
    "### Write a Python function `binary_search` that implements the binary search algorithm on a sorted list and returns the index of the element if found, or -1 if not found.\n",
    "\n",
    "### Test your function\n",
    "```python\n",
    "print(binary_search([1, 3, 5, 7, 9, 11], 7))  # Expected output: 3\n",
    "print(binary_search([2, 4, 6, 8, 10], 5))  # Expected output: -1\n",
    "```"
   ]
  },
  {
   "cell_type": "code",
   "execution_count": null,
   "metadata": {},
   "outputs": [],
   "source": [
    "# Your solution here\n"
   ]
  },
  {
   "cell_type": "markdown",
   "metadata": {},
   "source": []
  }
 ],
 "metadata": {
  "kernelspec": {
   "display_name": "Python 3",
   "language": "python",
   "name": "python3"
  },
  "language_info": {
   "codemirror_mode": {
    "name": "ipython",
    "version": 3
   },
   "file_extension": ".py",
   "mimetype": "text/x-python",
   "name": "python",
   "nbconvert_exporter": "python",
   "pygments_lexer": "ipython3",
   "version": "3.13.2"
  }
 },
 "nbformat": 4,
 "nbformat_minor": 2
}
